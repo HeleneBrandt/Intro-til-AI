{
 "cells": [
  {
   "cell_type": "code",
   "execution_count": 3,
   "id": "4f4db9e0",
   "metadata": {},
   "outputs": [
    {
     "name": "stdout",
     "output_type": "stream",
     "text": [
      "Alt fungerer! Hurra!!\n"
     ]
    }
   ],
   "source": [
    "import pandas as pd\n",
    "import numpy as np\n",
    "import matplotlib.pyplot as plt\n",
    "import seaborn as sns\n",
    "\n",
    "print(\"Alt fungerer! Hurra!!\")"
   ]
  },
  {
   "cell_type": "markdown",
   "id": "999b1873",
   "metadata": {},
   "source": [
    "### Oppgave 1\n",
    "\n",
    "I denne oppgaven skal vi lese inn \"Grocery_dataset.csv\" som et Pandas DataFrame kalt Grc_df. Etter det har vi sjekket antall rader og kolonner med '.shape' og viser de første 10 og siste 10 radene. Dette gjøres fordi man skal bli bedre kjent med datasettet og se hvordan det ser ut. \n"
   ]
  },
  {
   "cell_type": "code",
   "execution_count": 5,
   "id": "4247ea11",
   "metadata": {},
   "outputs": [
    {
     "name": "stdout",
     "output_type": "stream",
     "text": [
      "  Item_Identifier  Item_Weight Item_Fat_Content  Item_Visibility  \\\n",
      "0           FDA15         9.30          Low Fat         0.016047   \n",
      "1           DRC01         5.92          Regular         0.019278   \n",
      "2           FDN15        17.50          Low Fat         0.016760   \n",
      "3           FDX07        19.20          Regular         0.000000   \n",
      "4           NCD19         8.93          Low Fat         0.000000   \n",
      "\n",
      "               Item_Type  Item_MRP Outlet_Identifier  \\\n",
      "0                  Dairy  249.8092            OUT049   \n",
      "1            Soft Drinks   48.2692            OUT018   \n",
      "2                   Meat  141.6180            OUT049   \n",
      "3  Fruits and Vegetables  182.0950            OUT010   \n",
      "4              Household   53.8614            OUT013   \n",
      "\n",
      "   Outlet_Establishment_Year Outlet_Size Outlet_Location_Type  \\\n",
      "0                       1999      Medium               Tier 1   \n",
      "1                       2009      Medium               Tier 3   \n",
      "2                       1999      Medium               Tier 1   \n",
      "3                       1998         NaN               Tier 3   \n",
      "4                       1987        High               Tier 3   \n",
      "\n",
      "         Outlet_Type  Item_Outlet_Sales  \n",
      "0  Supermarket Type1          3735.1380  \n",
      "1  Supermarket Type2           443.4228  \n",
      "2  Supermarket Type1          2097.2700  \n",
      "3      Grocery Store           732.3800  \n",
      "4  Supermarket Type1           994.7052  \n",
      "Shape:  (5000, 12)\n",
      "  Item_Identifier  Item_Weight Item_Fat_Content  Item_Visibility  \\\n",
      "0           FDA15        9.300          Low Fat         0.016047   \n",
      "1           DRC01        5.920          Regular         0.019278   \n",
      "2           FDN15       17.500          Low Fat         0.016760   \n",
      "3           FDX07       19.200          Regular         0.000000   \n",
      "4           NCD19        8.930          Low Fat         0.000000   \n",
      "5           FDP36       10.395          Regular         0.000000   \n",
      "6           FDO10       13.650          Regular         0.012741   \n",
      "7           FDP10          NaN          Low Fat         0.127470   \n",
      "8           FDH17       16.200          Regular         0.016687   \n",
      "9           FDU28       19.200          Regular         0.094450   \n",
      "\n",
      "               Item_Type  Item_MRP Outlet_Identifier  \\\n",
      "0                  Dairy  249.8092            OUT049   \n",
      "1            Soft Drinks   48.2692            OUT018   \n",
      "2                   Meat  141.6180            OUT049   \n",
      "3  Fruits and Vegetables  182.0950            OUT010   \n",
      "4              Household   53.8614            OUT013   \n",
      "5           Baking Goods   51.4008            OUT018   \n",
      "6            Snack Foods   57.6588            OUT013   \n",
      "7            Snack Foods  107.7622            OUT027   \n",
      "8           Frozen Foods   96.9726            OUT045   \n",
      "9           Frozen Foods  187.8214            OUT017   \n",
      "\n",
      "   Outlet_Establishment_Year Outlet_Size Outlet_Location_Type  \\\n",
      "0                       1999      Medium               Tier 1   \n",
      "1                       2009      Medium               Tier 3   \n",
      "2                       1999      Medium               Tier 1   \n",
      "3                       1998         NaN               Tier 3   \n",
      "4                       1987        High               Tier 3   \n",
      "5                       2009      Medium               Tier 3   \n",
      "6                       1987        High               Tier 3   \n",
      "7                       1985      Medium               Tier 3   \n",
      "8                       2002         NaN               Tier 2   \n",
      "9                       2007         NaN               Tier 2   \n",
      "\n",
      "         Outlet_Type  Item_Outlet_Sales  \n",
      "0  Supermarket Type1          3735.1380  \n",
      "1  Supermarket Type2           443.4228  \n",
      "2  Supermarket Type1          2097.2700  \n",
      "3      Grocery Store           732.3800  \n",
      "4  Supermarket Type1           994.7052  \n",
      "5  Supermarket Type2           556.6088  \n",
      "6  Supermarket Type1           343.5528  \n",
      "7  Supermarket Type3          4022.7636  \n",
      "8  Supermarket Type1          1076.5986  \n",
      "9  Supermarket Type1          4710.5350  \n",
      "     Item_Identifier  Item_Weight Item_Fat_Content  Item_Visibility  \\\n",
      "4990           FDE46        18.60          Low Fat         0.015859   \n",
      "4991           NCQ53        17.60          Low Fat         0.018905   \n",
      "4992           NCN42        20.25          Low Fat         0.014281   \n",
      "4993           DRH11         5.98          Low Fat         0.075675   \n",
      "4994           NCI42        18.75          Low Fat         0.010382   \n",
      "4995           FDT07         5.82          Regular         0.077476   \n",
      "4996           DRL60         8.52          Low Fat         0.027059   \n",
      "4997           FDG20        15.50          Regular         0.126200   \n",
      "4998           FDF56        16.70          Regular         0.119462   \n",
      "4999           FDV33         9.60          Regular         0.027455   \n",
      "\n",
      "                  Item_Type  Item_MRP Outlet_Identifier  \\\n",
      "4990            Snack Foods  152.9366            OUT017   \n",
      "4991     Health and Hygiene  234.6590            OUT046   \n",
      "4992              Household  148.0418            OUT018   \n",
      "4993            Hard Drinks   53.3614            OUT049   \n",
      "4994              Household  207.8954            OUT049   \n",
      "4995  Fruits and Vegetables  255.3330            OUT045   \n",
      "4996            Soft Drinks  153.3682            OUT046   \n",
      "4997  Fruits and Vegetables  178.4028            OUT018   \n",
      "4998  Fruits and Vegetables  182.7976            OUT046   \n",
      "4999            Snack Foods  258.1304            OUT018   \n",
      "\n",
      "      Outlet_Establishment_Year Outlet_Size Outlet_Location_Type  \\\n",
      "4990                       2007         NaN               Tier 2   \n",
      "4991                       1997       Small               Tier 1   \n",
      "4992                       2009      Medium               Tier 3   \n",
      "4993                       1999      Medium               Tier 1   \n",
      "4994                       1999      Medium               Tier 1   \n",
      "4995                       2002         NaN               Tier 2   \n",
      "4996                       1997       Small               Tier 1   \n",
      "4997                       2009      Medium               Tier 3   \n",
      "4998                       1997       Small               Tier 1   \n",
      "4999                       2009      Medium               Tier 3   \n",
      "\n",
      "            Outlet_Type  Item_Outlet_Sales  \n",
      "4990  Supermarket Type1           453.4098  \n",
      "4991  Supermarket Type1          8508.9240  \n",
      "4992  Supermarket Type2          1177.1344  \n",
      "4993  Supermarket Type1           331.5684  \n",
      "4994  Supermarket Type1          2292.3494  \n",
      "4995  Supermarket Type1          4870.3270  \n",
      "4996  Supermarket Type1           914.8092  \n",
      "4997  Supermarket Type2          1239.7196  \n",
      "4998  Supermarket Type1          1810.9760  \n",
      "4999  Supermarket Type2          2324.9736  \n"
     ]
    }
   ],
   "source": [
    "import pandas as pd\n",
    "\n",
    "Grc_df = pd.read_csv(\"Grocery_dataset.csv\")\n",
    "print(Grc_df.head())\n",
    "\n",
    "# antall rader og kolonner\n",
    "\n",
    "print(\"Shape: \" , Grc_df.shape)\n",
    "\n",
    "#første 10 rader\n",
    "print(Grc_df.head(10))\n",
    "\n",
    "#siste 10 rader\n",
    "print(Grc_df.tail(10))\n"
   ]
  },
  {
   "cell_type": "markdown",
   "id": "ae63c846",
   "metadata": {},
   "source": [
    "### Oppgave 2\n",
    "\n",
    "I opg 2 sjekker vi om datasett har noen manglende verdier (null verdier)\n",
    "\n",
    "Her bruker vi '.isnull().sum()' for å telle hvor mange null-verdier det finnes pr. kolonne. \n",
    "\n",
    "For å håndtere nullverdier velger viV å: \n",
    "- Fylle inn 'Item_Weight' med medianverdien (fordi vekten er numerisk, og median er mer robust mot outliers).  \n",
    "- Fylle inn ' Outlet_Size' med modus (den mest vanlige verdien), siden dette er en kategorisk kolonne.  "
   ]
  },
  {
   "cell_type": "code",
   "execution_count": 6,
   "id": "de5429af",
   "metadata": {},
   "outputs": [
    {
     "name": "stdout",
     "output_type": "stream",
     "text": [
      "Item_Identifier                 0\n",
      "Item_Weight                   818\n",
      "Item_Fat_Content                0\n",
      "Item_Visibility                 0\n",
      "Item_Type                       0\n",
      "Item_MRP                        0\n",
      "Outlet_Identifier               0\n",
      "Outlet_Establishment_Year       0\n",
      "Outlet_Size                  1439\n",
      "Outlet_Location_Type            0\n",
      "Outlet_Type                     0\n",
      "Item_Outlet_Sales               0\n",
      "dtype: int64\n",
      "Item_Identifier              0\n",
      "Item_Weight                  0\n",
      "Item_Fat_Content             0\n",
      "Item_Visibility              0\n",
      "Item_Type                    0\n",
      "Item_MRP                     0\n",
      "Outlet_Identifier            0\n",
      "Outlet_Establishment_Year    0\n",
      "Outlet_Size                  0\n",
      "Outlet_Location_Type         0\n",
      "Outlet_Type                  0\n",
      "Item_Outlet_Sales            0\n",
      "dtype: int64\n"
     ]
    },
    {
     "name": "stderr",
     "output_type": "stream",
     "text": [
      "C:\\Users\\helen\\AppData\\Local\\Temp\\ipykernel_3836\\3412324322.py:5: FutureWarning: A value is trying to be set on a copy of a DataFrame or Series through chained assignment using an inplace method.\n",
      "The behavior will change in pandas 3.0. This inplace method will never work because the intermediate object on which we are setting values always behaves as a copy.\n",
      "\n",
      "For example, when doing 'df[col].method(value, inplace=True)', try using 'df.method({col: value}, inplace=True)' or df[col] = df[col].method(value) instead, to perform the operation inplace on the original object.\n",
      "\n",
      "\n",
      "  Grc_df[\"Item_Weight\"].fillna(Grc_df[\"Item_Weight\"].median(), inplace=True)\n",
      "C:\\Users\\helen\\AppData\\Local\\Temp\\ipykernel_3836\\3412324322.py:6: FutureWarning: A value is trying to be set on a copy of a DataFrame or Series through chained assignment using an inplace method.\n",
      "The behavior will change in pandas 3.0. This inplace method will never work because the intermediate object on which we are setting values always behaves as a copy.\n",
      "\n",
      "For example, when doing 'df[col].method(value, inplace=True)', try using 'df.method({col: value}, inplace=True)' or df[col] = df[col].method(value) instead, to perform the operation inplace on the original object.\n",
      "\n",
      "\n",
      "  Grc_df[\"Outlet_Size\"].fillna(Grc_df[\"Outlet_Size\"].mode()[0], inplace=True)\n"
     ]
    }
   ],
   "source": [
    "# sjekke om det finnes null-verdier i datasettet\n",
    "print(Grc_df.isnull().sum())\n",
    "\n",
    "# fylle inn manglende verdier\n",
    "Grc_df[\"Item_Weight\"].fillna(Grc_df[\"Item_Weight\"].median(), inplace=True)\n",
    "Grc_df[\"Outlet_Size\"].fillna(Grc_df[\"Outlet_Size\"].mode()[0], inplace=True)\n",
    "\n",
    "# sjekke igjen for å bekrefte at det ikke er flere nulls\n",
    "print(Grc_df.isnull().sum())\n"
   ]
  },
  {
   "cell_type": "markdown",
   "id": "3d0a5e21",
   "metadata": {},
   "source": [
    "### Oppgave 3\n",
    "Her sjekker vi hvor mange unike 'Outlet_Size'-verdier som finnes i datasettet.  \n",
    "Deretter teller vi hvor mange ganger hver 'Outlet_Size' forekommer, for å finne ut hvilken som er mest brukt (maximum) og hvilken som er minst brukt (minimum)."
   ]
  },
  {
   "cell_type": "code",
   "execution_count": 7,
   "id": "935e0374",
   "metadata": {},
   "outputs": [
    {
     "name": "stdout",
     "output_type": "stream",
     "text": [
      "Unike outlet sizes: ['Medium' 'High' 'Small']\n",
      "Antall per outlet size:\n",
      "Outlet_Size\n",
      "Medium    3044\n",
      "Small     1398\n",
      "High       558\n",
      "Name: count, dtype: int64\n"
     ]
    }
   ],
   "source": [
    "# finne unike outlet sizes\n",
    "print(\"Unike outlet sizes:\", Grc_df[\"Outlet_Size\"].unique())\n",
    "\n",
    "# telle hvor mange ganger hver størrelse forekommer\n",
    "print(\"Antall per outlet size:\")\n",
    "print(Grc_df[\"Outlet_Size\"].value_counts())\n"
   ]
  }
 ],
 "metadata": {
  "kernelspec": {
   "display_name": "venv",
   "language": "python",
   "name": "python3"
  },
  "language_info": {
   "codemirror_mode": {
    "name": "ipython",
    "version": 3
   },
   "file_extension": ".py",
   "mimetype": "text/x-python",
   "name": "python",
   "nbconvert_exporter": "python",
   "pygments_lexer": "ipython3",
   "version": "3.13.6"
  }
 },
 "nbformat": 4,
 "nbformat_minor": 5
}
